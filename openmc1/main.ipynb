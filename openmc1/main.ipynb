{
 "cells": [
  {
   "cell_type": "code",
   "execution_count": 1,
   "metadata": {},
   "outputs": [],
   "source": [
    "%load_ext autoreload\n",
    "%autoreload 2\n",
    "import sys\n",
    "\n",
    "sys.path.append(\"../\")\n",
    "from functions import *\n",
    "\n",
    "%matplotlib widget"
   ]
  },
  {
   "cell_type": "code",
   "execution_count": 4,
   "metadata": {},
   "outputs": [
    {
     "name": "stdout",
     "output_type": "stream",
     "text": [
      "Number of particles in file /home/lucas/Proyecto_Integrador/track_files/col-mono-1.h5: 4120516\n",
      "100% n, 0% g, 0% e-, 0% e+, 0% p, \n"
     ]
    }
   ],
   "source": [
    "SurfaceSourceFile = kds.SurfaceSourceFile(\n",
    "    \"/home/lucas/Proyecto_Integrador/track_files/col-mono-1.h5\",\n",
    "    domain={\"w\": [0, 2]},\n",
    ")\n",
    "df = SurfaceSourceFile.get_pandas_dataframe()\n",
    "# df = df[[\"x\", \"y\", \"ln(E0/E)\", \"mu\", \"phi\", \"wgt\"]]"
   ]
  }
 ],
 "metadata": {
  "kernelspec": {
   "display_name": "openmc_develop",
   "language": "python",
   "name": "python3"
  },
  "language_info": {
   "codemirror_mode": {
    "name": "ipython",
    "version": 3
   },
   "file_extension": ".py",
   "mimetype": "text/x-python",
   "name": "python",
   "nbconvert_exporter": "python",
   "pygments_lexer": "ipython3",
   "version": "3.10.14"
  }
 },
 "nbformat": 4,
 "nbformat_minor": 2
}
