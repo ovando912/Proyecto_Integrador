{
 "cells": [
  {
   "cell_type": "code",
   "execution_count": 2,
   "metadata": {},
   "outputs": [],
   "source": [
    "%load_ext autoreload\n",
    "%autoreload 2\n",
    "import sys\n",
    "sys.path.append('../')\n",
    "from functions import *\n",
    "%matplotlib widget"
   ]
  },
  {
   "cell_type": "markdown",
   "metadata": {},
   "source": [
    "# Datos"
   ]
  },
  {
   "cell_type": "code",
   "execution_count": 3,
   "metadata": {},
   "outputs": [],
   "source": [
    "# Data to test\n",
    "columns_order = [[\"x\", \"y\", \"ln(E0/E)\", \"mu\", \"phi\"]]\n",
    "micro_bins = [[150] * len(columns_order[0])]\n",
    "macro_bins = [[15, 10, 8, 6, 5],[15, 10, 8, 6, 5],[15, 10, 8, 6, 5]]\n",
    "N_max = [1e6]\n",
    "type = [\"equal_area\"]\n",
    "\n",
    "columns_order, micro_bins, macro_bins, N, type = barrido_combinations(\n",
    "    columns_order, micro_bins, macro_bins, N_max, type\n",
    ")\n",
    "N_max = [n.sum() for n in N]\n",
    "\n",
    "save_information(type, N_max, columns_order, micro_bins, macro_bins)"
   ]
  },
  {
   "cell_type": "code",
   "execution_count": null,
   "metadata": {},
   "outputs": [],
   "source": [
    "barrido(\n",
    "    columns_order,\n",
    "    micro_bins,\n",
    "    macro_bins,\n",
    "    N,\n",
    "    type,\n",
    "    \"../surface_source.mcpl\",\n",
    "    save=True,\n",
    ")"
   ]
  },
  {
   "cell_type": "code",
   "execution_count": 3,
   "metadata": {},
   "outputs": [
    {
     "name": "stdout",
     "output_type": "stream",
     "text": [
      "(3, 0, 2, 3)\n",
      "Min: 0\n",
      "Max: 3\n"
     ]
    }
   ],
   "source": [
    "a = [[\"1\",1, 2, 3], [\"2\",14, 5, 0], [\"3\",2, 5, 2], [\"4\",1, 2, 3]]\n",
    "\n",
    "# Transpose the list and get the min and max for each component\n",
    "a_t = list(zip(*a))[-1]\n",
    "print(a_t)\n",
    "min_values = np.min(a_t)\n",
    "max_values = np.max(a_t)\n",
    "\n",
    "print(f\"Min: {min_values}\")\n",
    "print(f\"Max: {max_values}\")"
   ]
  },
  {
   "cell_type": "code",
   "execution_count": 5,
   "metadata": {},
   "outputs": [],
   "source": [
    "comparacion_barrido()"
   ]
  }
 ],
 "metadata": {
  "kernelspec": {
   "display_name": "openmc_develop",
   "language": "python",
   "name": "python3"
  },
  "language_info": {
   "codemirror_mode": {
    "name": "ipython",
    "version": 3
   },
   "file_extension": ".py",
   "mimetype": "text/x-python",
   "name": "python",
   "nbconvert_exporter": "python",
   "pygments_lexer": "ipython3",
   "version": "3.10.14"
  }
 },
 "nbformat": 4,
 "nbformat_minor": 2
}
